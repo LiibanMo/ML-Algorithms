{
  "nbformat": 4,
  "nbformat_minor": 0,
  "metadata": {
    "colab": {
      "provenance": [],
      "authorship_tag": "ABX9TyPyRjqcvyY7GIIlqX5/27I+",
      "include_colab_link": true
    },
    "kernelspec": {
      "name": "python3",
      "display_name": "Python 3"
    },
    "language_info": {
      "name": "python"
    }
  },
  "cells": [
    {
      "cell_type": "markdown",
      "metadata": {
        "id": "view-in-github",
        "colab_type": "text"
      },
      "source": [
        "<a href=\"https://colab.research.google.com/github/LiibanMo/ML-Algorithms/blob/main/NaiveBayes.ipynb\" target=\"_parent\"><img src=\"https://colab.research.google.com/assets/colab-badge.svg\" alt=\"Open In Colab\"/></a>"
      ]
    },
    {
      "cell_type": "code",
      "execution_count": 312,
      "metadata": {
        "id": "qH0i5k2Vd_UU"
      },
      "outputs": [],
      "source": [
        "import numpy as np\n",
        "import pandas as pd"
      ]
    },
    {
      "cell_type": "code",
      "source": [
        "import pandas as pd\n",
        "import numpy as np\n",
        "x_values = pd.DataFrame({\n",
        "    'height': [6, 5.92, 5.58, 5.92, 5, 5.5, 5.42, 5.75],\n",
        "    'weight': [180,190,170,165,100,150,130,150],\n",
        "    'foot': [12,11,12,10,6,8,7,9]\n",
        "})\n",
        "# \"male\" to 0, and \"female\" to 1.\n",
        "y_values = pd.Series([0,0,0,0,1,1,1,1])\n",
        "\n",
        "sample = pd.DataFrame({\n",
        "    'height': [6],\n",
        "    'weight': [130],\n",
        "    'foot': [8]\n",
        "})\n",
        "\n",
        "x_test = np.array([[6, 130, 8],\n",
        "                  [6, 180, 10],\n",
        "                   [5, 180, 7],])"
      ],
      "metadata": {
        "id": "85dKk72lLNRO"
      },
      "execution_count": 313,
      "outputs": []
    },
    {
      "cell_type": "code",
      "source": [
        "class GaussianNaiveBayesClassifier:\n",
        "    def fit(self, X, y):\n",
        "        def obtain_priors(y):\n",
        "            priors = []\n",
        "            for class_ in np.unique(y):\n",
        "                prior = len(y[y==class_]) / len(y)\n",
        "                priors.append(prior)\n",
        "            return priors\n",
        "\n",
        "        self.priors = obtain_priors(y)\n",
        "\n",
        "        def obtain_data_given_class(X, y):\n",
        "            separated_data = []\n",
        "            for class_ in np.unique(y):\n",
        "                separated_data.append(X[y==class_])\n",
        "            return separated_data\n",
        "\n",
        "        separated_data = obtain_data_given_class(X, y)\n",
        "\n",
        "        def obtain_statistics_for_each_feature_given_class(separated_data):\n",
        "            statistics = []\n",
        "            for i, data in enumerate(separated_data):\n",
        "                means = data.mean(axis=0)\n",
        "                vars = data.var(axis=0, ddof=1)\n",
        "                stat = np.column_stack((means, vars))\n",
        "                statistics.append(stat)\n",
        "            return statistics\n",
        "\n",
        "        self.statistics = obtain_statistics_for_each_feature_given_class(separated_data)\n",
        "\n",
        "        return self\n",
        "\n",
        "    def predict(self, X):\n",
        "        def obtain_likelihoods(x, statistics):\n",
        "            def gaussian(x, mean, var):\n",
        "                return 1 / np.sqrt(2 * np.pi * var) * np.exp(-(x - mean)**2 / (2 * var))\n",
        "\n",
        "            likelihoods = []\n",
        "            for idx in range(len(statistics)):\n",
        "                likelihood = 1\n",
        "                for obs, (mean, var) in zip(x, statistics[idx]):\n",
        "                    likelihood *= gaussian(obs, mean, var)\n",
        "                likelihoods.append(likelihood)\n",
        "\n",
        "            return likelihoods\n",
        "\n",
        "        def obtain_posteriors(priors, likelihoods):\n",
        "            posteriors = []\n",
        "            for prior, likelihood in zip(priors, likelihoods):\n",
        "                posteriors.append(prior * likelihood)\n",
        "            return posteriors\n",
        "\n",
        "        posteriors = []\n",
        "        for x in X:\n",
        "            likelihoods = obtain_likelihoods(x, self.statistics)\n",
        "            posteriors.append(obtain_posteriors(self.priors, likelihoods))\n",
        "\n",
        "        return np.asarray(posteriors).argmax(axis=1)\n"
      ],
      "metadata": {
        "id": "vVqvo8UDfBI-"
      },
      "execution_count": 325,
      "outputs": []
    },
    {
      "cell_type": "code",
      "source": [
        "model = GaussianNaiveBayesClassifier()\n",
        "fitted_model = model.fit(X, y)\n",
        "y_pred = fitted_model.predict(x_test)\n",
        "y_pred"
      ],
      "metadata": {
        "colab": {
          "base_uri": "https://localhost:8080/"
        },
        "id": "ZvaLEjGNi-5m",
        "outputId": "0e97a9b5-bbdb-4bf6-f22c-c88c2fa3e50b"
      },
      "execution_count": 326,
      "outputs": [
        {
          "output_type": "execute_result",
          "data": {
            "text/plain": [
              "array([1, 0, 1])"
            ]
          },
          "metadata": {},
          "execution_count": 326
        }
      ]
    }
  ]
}