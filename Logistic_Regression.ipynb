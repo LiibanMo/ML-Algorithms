{
  "nbformat": 4,
  "nbformat_minor": 0,
  "metadata": {
    "colab": {
      "provenance": [],
      "authorship_tag": "ABX9TyOWzLjmp4Rpi9ZUcKMho5lK",
      "include_colab_link": true
    },
    "kernelspec": {
      "name": "python3",
      "display_name": "Python 3"
    },
    "language_info": {
      "name": "python"
    }
  },
  "cells": [
    {
      "cell_type": "markdown",
      "metadata": {
        "id": "view-in-github",
        "colab_type": "text"
      },
      "source": [
        "<a href=\"https://colab.research.google.com/github/LiibanMo/ML-Algorithms/blob/main/Logistic_Regression.ipynb\" target=\"_parent\"><img src=\"https://colab.research.google.com/assets/colab-badge.svg\" alt=\"Open In Colab\"/></a>"
      ]
    },
    {
      "cell_type": "code",
      "source": [
        "from typing import Self\n",
        "import numpy as np"
      ],
      "metadata": {
        "id": "Nt8fHkSKXXE3"
      },
      "execution_count": 37,
      "outputs": []
    },
    {
      "cell_type": "code",
      "execution_count": 38,
      "metadata": {
        "id": "l6AfX5uCXP3g"
      },
      "outputs": [],
      "source": [
        "class LogisticRegression:\n",
        "    def __init__(self, fit_intercept:bool=True, max_iter:int=100, tol:float=1e-4, lr:float=0.5, threshold:float=0.5, random_state:int=123):\n",
        "        self._fit_intercept = fit_intercept\n",
        "        self._max_iter = max_iter\n",
        "        self._tol = tol\n",
        "        self._lr = lr\n",
        "        self._threshold = threshold\n",
        "        self._random_state = 123\n",
        "\n",
        "    def fit(self, X:np.ndarray, y:np.ndarray) -> Self:\n",
        "        def logistic_func(x:np.ndarray, coef:np.ndarray):\n",
        "            return 1 / (1 + np.exp(-x @ coef))\n",
        "\n",
        "        if self._fit_intercept:\n",
        "            X_train = np.column_stack((np.ones(X.shape[0]), X))\n",
        "            self.coef = np.zeros(X_train.shape[1])\n",
        "        else:\n",
        "            X_train = X\n",
        "            self.coef = np.zeros(X.shape[1])\n",
        "\n",
        "        for iter in range(self._max_iter):\n",
        "            d_log_likelihood = X_train.T @ (y - logistic_func(X_train, self.coef))\n",
        "            new_coef = self.coef + self._lr * d_log_likelihood\n",
        "            abs_diff = new_coef - self.coef\n",
        "            if np.linalg.norm(abs_diff) < self._tol:\n",
        "                break\n",
        "            self.coef = new_coef\n",
        "\n",
        "        return self\n",
        "\n",
        "    def predict(self, X:np.ndarray) -> np.ndarray:\n",
        "        def logistic_func(x:np.ndarray, coef:np.ndarray):\n",
        "            return 1 / (1 + np.exp(-x.T @ coef))\n",
        "\n",
        "        if self._fit_intercept:\n",
        "            X_test = np.column_stack((np.ones(X.shape[0]), X))\n",
        "        else:\n",
        "            X_test = X\n",
        "\n",
        "        y_pred = np.zeros(X_test.shape[0])\n",
        "\n",
        "        for idx, x in enumerate(X_test):\n",
        "            if logistic_func(x, self.coef) >= self._threshold:\n",
        "                y_pred[idx] = 1\n",
        "            else:\n",
        "                y_pred[idx] = 0\n",
        "\n",
        "        return y_pred"
      ]
    },
    {
      "cell_type": "code",
      "source": [
        "import numpy as np\n",
        "\n",
        "np.random.seed(0)\n",
        "X = np.random.rand(100, 1) * 10\n",
        "y = (X[:, 0] > 5).astype(int)\n",
        "\n",
        "from sklearn.model_selection import train_test_split\n",
        "\n",
        "X_train, X_test, y_train, y_test = train_test_split(X, y, test_size = 0.2, shuffle = True, random_state=123)\n",
        "\n",
        "print(X_train.shape)"
      ],
      "metadata": {
        "colab": {
          "base_uri": "https://localhost:8080/"
        },
        "id": "XzrA3jIRbBst",
        "outputId": "e192ca29-ad00-44ef-ad1f-6f7b57dddaaa"
      },
      "execution_count": 39,
      "outputs": [
        {
          "output_type": "stream",
          "name": "stdout",
          "text": [
            "(80, 1)\n"
          ]
        }
      ]
    },
    {
      "cell_type": "code",
      "source": [
        "model = LogisticRegression()\n",
        "fitted_model = model.fit(X_train, y_train)\n",
        "print(fitted_model.coef)\n",
        "y_pred = fitted_model.predict(X_test)\n",
        "\n",
        "import matplotlib.pyplot as plt\n",
        "\n",
        "plt.scatter(X, y, c=\"green\", label=\"Full Data\")\n",
        "plt.scatter(X_test, y_pred, c=\"red\", label=\"Predictions\")\n",
        "plt.legend()\n",
        "plt.show()"
      ],
      "metadata": {
        "colab": {
          "base_uri": "https://localhost:8080/",
          "height": 448
        },
        "id": "0V82OW2demnp",
        "outputId": "f19bb7e6-83a1-4430-b1b4-20c6b74e8df0"
      },
      "execution_count": 40,
      "outputs": [
        {
          "output_type": "stream",
          "name": "stdout",
          "text": [
            "[-189.8435973    38.08064367]\n"
          ]
        },
        {
          "output_type": "display_data",
          "data": {
            "text/plain": [
              "<Figure size 640x480 with 1 Axes>"
            ],
            "image/png": "[encoded data removed]"
          },
          "metadata": {}
        }
      ]
    },
    {
      "cell_type": "code",
      "source": [
        "from sklearn.linear_model import LogisticRegression as sk_LogisticRegression\n",
        "\n",
        "sk_model = sk_LogisticRegression(fit_intercept=True)\n",
        "sk_fitted_model = sk_model.fit(X_train, y_train)\n",
        "print(sk_fitted_model.intercept_, sk_fitted_model.coef_)\n",
        "\n",
        "import matplotlib.pyplot as plt\n",
        "\n",
        "sk_y_pred = sk_fitted_model.predict(X_test)\n",
        "plt.scatter(X, y, c=\"green\", label=\"Full Data\")\n",
        "plt.scatter(X_test, sk_y_pred, c=\"red\", label=\"Predictions\")\n",
        "plt.legend()\n",
        "plt.show()"
      ],
      "metadata": {
        "colab": {
          "base_uri": "https://localhost:8080/",
          "height": 448
        },
        "id": "FCkH_ejch-Kf",
        "outputId": "7dca24bb-f569-4ba3-ce33-4a61f5ab19ab"
      },
      "execution_count": 41,
      "outputs": [
        {
          "output_type": "stream",
          "name": "stdout",
          "text": [
            "[-12.31429357] [[2.4708732]]\n"
          ]
        },
        {
          "output_type": "display_data",
          "data": {
            "text/plain": [
              "<Figure size 640x480 with 1 Axes>"
            ],
            "image/png": "[encoded data removed]"
          },
          "metadata": {}
        }
      ]
    },
    {
      "cell_type": "code",
      "source": [
        "from sklearn.metrics import f1_score\n",
        "\n",
        "print(f\"My model's F1-Score: {f1_score(y_pred, y_test)}\")\n",
        "print(f\"Sklearn's model's F1-Score {f1_score(sk_y_pred, y_test)}\")"
      ],
      "metadata": {
        "colab": {
          "base_uri": "https://localhost:8080/"
        },
        "id": "Fb-bTnbOuJWr",
        "outputId": "d5a5a82d-1eee-4e95-d3e9-686c28b1577a"
      },
      "execution_count": 42,
      "outputs": [
        {
          "output_type": "stream",
          "name": "stdout",
          "text": [
            "My model's F1-Score: 1.0\n",
            "Sklearn's model's F1-Score 1.0\n"
          ]
        }
      ]
    }
  ]
}