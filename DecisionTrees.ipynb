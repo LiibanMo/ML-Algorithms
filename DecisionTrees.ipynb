{
  "nbformat": 4,
  "nbformat_minor": 0,
  "metadata": {
    "colab": {
      "provenance": [],
      "authorship_tag": "ABX9TyN8V19o01Auw36oTQ/Dt5kt",
      "include_colab_link": true
    },
    "kernelspec": {
      "name": "python3",
      "display_name": "Python 3"
    },
    "language_info": {
      "name": "python"
    }
  },
  "cells": [
    {
      "cell_type": "markdown",
      "metadata": {
        "id": "view-in-github",
        "colab_type": "text"
      },
      "source": [
        "<a href=\"https://colab.research.google.com/github/LiibanMo/ML-Algorithms/blob/main/DecisionTrees.ipynb\" target=\"_parent\"><img src=\"https://colab.research.google.com/assets/colab-badge.svg\" alt=\"Open In Colab\"/></a>"
      ]
    },
    {
      "cell_type": "code",
      "execution_count": 347,
      "metadata": {
        "id": "mV3xgfay4qGv"
      },
      "outputs": [],
      "source": [
        "import numpy as np"
      ]
    },
    {
      "cell_type": "code",
      "source": [
        "training_data = [\n",
        "    ['Green', 3, 'Apple'],\n",
        "    ['Yellow', 3, 'Apple'],\n",
        "    ['Red', 1, 'Grape'],\n",
        "    ['Red', 1, 'Grape'],\n",
        "    ['Yellow', 3, 'Lemon'],\n",
        "]"
      ],
      "metadata": {
        "id": "f5sCONHr6Pet"
      },
      "execution_count": 348,
      "outputs": []
    },
    {
      "cell_type": "code",
      "source": [
        "def obtain_unique_vals(data, col):\n",
        "    return set(row[col] for row in data)"
      ],
      "metadata": {
        "id": "Yk23YJg16eVJ"
      },
      "execution_count": 349,
      "outputs": []
    },
    {
      "cell_type": "code",
      "source": [
        "obtain_unique_vals(training_data, 2)"
      ],
      "metadata": {
        "colab": {
          "base_uri": "https://localhost:8080/"
        },
        "id": "L3MUTYccIgZf",
        "outputId": "e6159647-c825-48e8-d840-b890dffcef93"
      },
      "execution_count": 350,
      "outputs": [
        {
          "output_type": "execute_result",
          "data": {
            "text/plain": [
              "{'Apple', 'Grape', 'Lemon'}"
            ]
          },
          "metadata": {},
          "execution_count": 350
        }
      ]
    },
    {
      "cell_type": "code",
      "source": [
        "def class_counts(data):\n",
        "    counts = {}\n",
        "    for row in data:\n",
        "        label = row[-1]\n",
        "        counts[label] = counts.get(label, 0) + 1\n",
        "    return counts"
      ],
      "metadata": {
        "id": "BV80yJPcIaC_"
      },
      "execution_count": 351,
      "outputs": []
    },
    {
      "cell_type": "code",
      "source": [
        "sum(class_counts(training_data).values())"
      ],
      "metadata": {
        "colab": {
          "base_uri": "https://localhost:8080/"
        },
        "id": "iJvYZ9RhJeVz",
        "outputId": "ec5d37cf-1712-43ad-d18d-25728301b827"
      },
      "execution_count": 352,
      "outputs": [
        {
          "output_type": "execute_result",
          "data": {
            "text/plain": [
              "5"
            ]
          },
          "metadata": {},
          "execution_count": 352
        }
      ]
    },
    {
      "cell_type": "code",
      "source": [
        "class Question:\n",
        "    def __init__(self, column, value):\n",
        "        self.column = column\n",
        "        self.value = value\n",
        "\n",
        "    def evaluate(self, example):\n",
        "        val = example[self.column]\n",
        "        if isinstance(val, (int, float)):\n",
        "            return val >= self.value\n",
        "        else:\n",
        "            return val == self.value\n",
        "\n",
        "    def __repr__(self):\n",
        "        if isinstance(self.value, (int, float)):\n",
        "            return f\"Question: Is row[{self.column}] >= {self.value}?\"\n",
        "        else:\n",
        "            return f\"Question: Is row[{self.column}] == {self.value}?\""
      ],
      "metadata": {
        "id": "m5FPmvMO9cES"
      },
      "execution_count": 353,
      "outputs": []
    },
    {
      "cell_type": "code",
      "source": [
        "def partition(data, question):\n",
        "    true_rows, false_rows = [], []\n",
        "    for row in data:\n",
        "        if question.evaluate(row):\n",
        "            true_rows.append(row)\n",
        "        else:\n",
        "            false_rows.append(row)\n",
        "    return true_rows, false_rows"
      ],
      "metadata": {
        "id": "uzCuy035-nFj"
      },
      "execution_count": 354,
      "outputs": []
    },
    {
      "cell_type": "code",
      "source": [
        "question = Question(0, 'Red')\n",
        "true_rows, false_rows = partition(training_data, question)"
      ],
      "metadata": {
        "id": "EShLQdz1_YUw"
      },
      "execution_count": 355,
      "outputs": []
    },
    {
      "cell_type": "code",
      "source": [
        "def gini(rows):\n",
        "    counts = class_counts(rows)\n",
        "    gini_idx = 1\n",
        "    for freq in counts.values():\n",
        "        prob = freq / sum(counts.values())\n",
        "        gini_idx -= prob ** 2\n",
        "    return gini_idx"
      ],
      "metadata": {
        "id": "JDjryVWqH0RC"
      },
      "execution_count": 356,
      "outputs": []
    },
    {
      "cell_type": "code",
      "source": [
        "def info_gain(left, right, current_uncertainty):\n",
        "    weight = len(left) / (len(right) + len(left))\n",
        "    return current_uncertainty - weight * gini(left) - (1 - weight) * gini(right)"
      ],
      "metadata": {
        "id": "sSGmK7R0KfFF"
      },
      "execution_count": 357,
      "outputs": []
    },
    {
      "cell_type": "code",
      "source": [
        "current_uncertainty = gini(training_data)\n",
        "info_gain(true_rows, false_rows, current_uncertainty)"
      ],
      "metadata": {
        "colab": {
          "base_uri": "https://localhost:8080/"
        },
        "id": "W-jd5CouKEHF",
        "outputId": "72b10f1b-7c43-45ae-a575-44e0c36558e7"
      },
      "execution_count": 358,
      "outputs": [
        {
          "output_type": "execute_result",
          "data": {
            "text/plain": [
              "0.37333333333333324"
            ]
          },
          "metadata": {},
          "execution_count": 358
        }
      ]
    },
    {
      "cell_type": "code",
      "source": [
        "def find_best_split(data):\n",
        "    best_gain = 0\n",
        "    best_question = None\n",
        "    current_uncertainty = gini(data)\n",
        "    num_features = len(data[0]) - 1\n",
        "\n",
        "    for column in range(num_features):\n",
        "        values = set(row[column] for row in data)\n",
        "        for value in values:\n",
        "            question = Question(column, value)\n",
        "            true_rows, false_rows = partition(data, question)\n",
        "            if len(true_rows) == 0 or len(false_rows) == 0:\n",
        "                continue\n",
        "            gain = info_gain(false_rows, true_rows, current_uncertainty)\n",
        "            if gain > best_gain:\n",
        "                best_gain = gain\n",
        "                best_question = question\n",
        "\n",
        "    return best_gain, best_question"
      ],
      "metadata": {
        "id": "v8acPJAzLMm6"
      },
      "execution_count": 359,
      "outputs": []
    },
    {
      "cell_type": "code",
      "source": [
        "best_gain, best_question = find_best_split(training_data)\n",
        "best_question"
      ],
      "metadata": {
        "colab": {
          "base_uri": "https://localhost:8080/"
        },
        "id": "SDvtrTKXMZeO",
        "outputId": "dfb09e0d-e970-4f9f-cb1a-59c3454748b5"
      },
      "execution_count": 360,
      "outputs": [
        {
          "output_type": "execute_result",
          "data": {
            "text/plain": [
              "Question: Is row[0] == Red?"
            ]
          },
          "metadata": {},
          "execution_count": 360
        }
      ]
    },
    {
      "cell_type": "code",
      "source": [
        "class Leaf:\n",
        "    def __init__(self, data):\n",
        "        self.predictions = class_counts(data)"
      ],
      "metadata": {
        "id": "pHf_oAuxN1oL"
      },
      "execution_count": 361,
      "outputs": []
    },
    {
      "cell_type": "code",
      "source": [
        "class DecisionNode:\n",
        "    def __init__(self, question, right_branch, left_branch):\n",
        "        self.question = question\n",
        "        self.true_branch = right_branch\n",
        "        self.false_branch = left_branch"
      ],
      "metadata": {
        "id": "UIglj75CN8CI"
      },
      "execution_count": 362,
      "outputs": []
    },
    {
      "cell_type": "code",
      "source": [
        "class DecisionTree:\n",
        "    def __init__(self, max_depth=None):\n",
        "        self.max_depth = max_depth\n",
        "\n",
        "    def fit(self, X, y):\n",
        "        self._data = []\n",
        "        for x_i, y_i in zip(X, y):\n",
        "            if isinstance(x_i, list):\n",
        "                self._data.append(x_i + [y_i])\n",
        "            else:\n",
        "                self._data.append([x_i] + [y_i])\n",
        "\n",
        "        def partition(data, question):\n",
        "            true_rows, false_rows = [], []\n",
        "            for row in data:\n",
        "                if question.evaluate(row):\n",
        "                    true_rows.append(row)\n",
        "                else:\n",
        "                    false_rows.append(row)\n",
        "            return true_rows, false_rows\n",
        "\n",
        "        def gini(rows):\n",
        "            counts = class_counts(rows)\n",
        "            gini_idx = 1\n",
        "            for freq in counts.values():\n",
        "                prob = freq / sum(counts.values())\n",
        "                gini_idx -= prob ** 2\n",
        "            return gini_idx\n",
        "\n",
        "        def info_gain(left, right, current_uncertainty):\n",
        "            weight = len(left) / (len(right) + len(left))\n",
        "            return current_uncertainty - weight * gini(left) - (1 - weight) * gini(right)\n",
        "\n",
        "        def find_best_split(data):\n",
        "            best_gain = 0\n",
        "            best_question = None\n",
        "            current_uncertainty = gini(data)\n",
        "            num_features = len(data[0]) - 1\n",
        "\n",
        "            for column in range(num_features):\n",
        "                values = obtain_unique_vals(data, column)\n",
        "                for value in values:\n",
        "                    question = Question(column, value)\n",
        "                    true_rows, false_rows = partition(data, question)\n",
        "                    if len(true_rows) == 0 or len(false_rows) == 0:\n",
        "                        continue\n",
        "                    gain = info_gain(true_rows, false_rows, current_uncertainty)\n",
        "                    if gain > best_gain:\n",
        "                        best_gain = gain\n",
        "                        best_question = question\n",
        "\n",
        "            return best_gain, best_question\n",
        "\n",
        "        self.depth = 0\n",
        "        def build_tree(data):\n",
        "            gain, question = find_best_split(data)\n",
        "            if gain == 0 or self.depth == self.max_depth:\n",
        "                return Leaf(data)\n",
        "\n",
        "            true_branch, false_branch = partition(data, question)\n",
        "\n",
        "            self.depth += 1\n",
        "            right_branch = build_tree(true_branch)\n",
        "            left_branch = build_tree(false_branch)\n",
        "\n",
        "            return DecisionNode(question, right_branch, left_branch)\n",
        "\n",
        "        self.tree = build_tree(self._data)\n",
        "\n",
        "        return self\n",
        "\n",
        "    def predict(self, X):\n",
        "        def classify(x, node):\n",
        "            if isinstance(node, Leaf):\n",
        "                return node.predictions\n",
        "            if node.question.evaluate(x):\n",
        "                return classify(x, node.true_branch)\n",
        "            else:\n",
        "                return classify(x, node.false_branch)\n",
        "\n",
        "        predictions = []\n",
        "        if isinstance(X[0], list):\n",
        "            for x in X:\n",
        "                predictions.append(classify(x, self.tree))\n",
        "        else:\n",
        "            predictions = classify(X, self.tree)\n",
        "        return predictions"
      ],
      "metadata": {
        "id": "3f_X5rZQOQWi"
      },
      "execution_count": 363,
      "outputs": []
    },
    {
      "cell_type": "code",
      "source": [
        "X = []\n",
        "y = []\n",
        "for row in training_data:\n",
        "    X.append(row[:-1])\n",
        "    y.append(row[-1])\n",
        "\n",
        "training_data"
      ],
      "metadata": {
        "colab": {
          "base_uri": "https://localhost:8080/"
        },
        "id": "1dvwVNY4QGbX",
        "outputId": "1e4411e7-f290-46c1-c57e-336499e55cb7"
      },
      "execution_count": 368,
      "outputs": [
        {
          "output_type": "execute_result",
          "data": {
            "text/plain": [
              "[['Green', 3, 'Apple'],\n",
              " ['Yellow', 3, 'Apple'],\n",
              " ['Red', 1, 'Grape'],\n",
              " ['Red', 1, 'Grape'],\n",
              " ['Yellow', 3, 'Lemon']]"
            ]
          },
          "metadata": {},
          "execution_count": 368
        }
      ]
    },
    {
      "cell_type": "code",
      "source": [
        "model = DecisionTree(max_depth=100)\n",
        "fitted_model = model.fit(X, y)\n",
        "fitted_model.predict(training_data)"
      ],
      "metadata": {
        "colab": {
          "base_uri": "https://localhost:8080/"
        },
        "id": "HhDOxRkdP77K",
        "outputId": "f557b230-aeee-491b-ce01-40345c644b09"
      },
      "execution_count": 373,
      "outputs": [
        {
          "output_type": "execute_result",
          "data": {
            "text/plain": [
              "[{'Apple': 1},\n",
              " {'Apple': 1, 'Lemon': 1},\n",
              " {'Grape': 2},\n",
              " {'Grape': 2},\n",
              " {'Apple': 1, 'Lemon': 1}]"
            ]
          },
          "metadata": {},
          "execution_count": 373
        }
      ]
    }
  ]
}